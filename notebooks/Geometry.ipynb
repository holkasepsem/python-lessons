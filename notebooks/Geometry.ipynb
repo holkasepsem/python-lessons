{
 "cells": [
  {
   "cell_type": "markdown",
   "metadata": {},
   "source": [
    "# Geometrický bod\n",
    "\n",
    "Ukázky implementace geometrického bodu. Třída reprezentuje bod v 2-dimenzionálním euklidovském prostoru. Třída `Point2` dědí z třídy `Point1` a splňuje tak *Liskovové substituční princip*.\n",
    "\n",
    "+ Dodělat: Porovnání rychlosti vytvoření vs `tuple` vs `namedtuple` atd.\n",
    "+ Poznámka: Použitím slotů mírně zrychlíme kód, protože se na pozadí nevytváří pro třídu slovník `__dict__`. Pro samotnou implementaci to však není důležité."
   ]
  },
  {
   "cell_type": "code",
   "execution_count": null,
   "metadata": {
    "collapsed": false
   },
   "outputs": [],
   "source": [
    "import abc\n",
    "\n",
    "class Point(metaclass=abc.ABCMeta):\n",
    "    \n",
    "    \"\"\"\n",
    "    Abstraktní třída reprezentující geometrický bod v euklidovském prostoru.\n",
    "    \"\"\"\n",
    "    __slots__ = (\"_coords\")\n",
    "        \n",
    "    def __init__(self, coord, *coords, point=None):\n",
    "        \"\"\"\n",
    "        Vytvoří novou instanci bodu a to buď ze zadaných souřadnic nebo, pokud \n",
    "        byl zadán pojmenovaný parametr `point`, tak ze souřadnic zadaného bodu.\n",
    "        \"\"\"\n",
    "        if point is not None:\n",
    "            _coords = tuple((c for c in point.coords))\n",
    "        else:\n",
    "            _coords = tuple((coord,)) + tuple((c for c in coords))\n",
    "            \n",
    "        self._coords = tuple((float(c) for c in _coords))\n",
    "                             \n",
    "    @property\n",
    "    def coords(self):\n",
    "        return self._coords\n",
    "    \n",
    "    def __add__(self, other):\n",
    "        return Point(*[sc + oc for sc, oc in zip(self.coords, other.coords)]) \\\n",
    "            if isinstance(other, Point) else NotImplemented\n",
    "    \n",
    "    def __sub__(self, other):\n",
    "        return Point(*[sc - oc for sc, oc in zip(self.coords, other.coords)]) \\\n",
    "            if isinstance(other, Point) else NotImplemented\n",
    "        \n",
    "    def __eq__(self, other):\n",
    "        return all([sc == oc for sc, oc in zip(self.coords, other.coords)]) \\\n",
    "            if isinstance(other, Point) else NotImplemented\n",
    "        \n",
    "    \n",
    "    def __getitem__(self, index):\n",
    "        return self.coords[index]\n",
    "    \n",
    "    def __str__(self):\n",
    "        return \"(\" + \",\".join((str(c) for c in self.coords)) + \")\"\n",
    "    \n",
    "    def __repr__(self):\n",
    "        return \"Point\" + self.__str__()"
   ]
  },
  {
   "cell_type": "markdown",
   "metadata": {},
   "source": [
    "Třída reprezentuje bod v 1-dimenzionální euklidovském prostoru např. pro reprezentaci bodu na osách grafu."
   ]
  },
  {
   "cell_type": "code",
   "execution_count": null,
   "metadata": {
    "collapsed": false
   },
   "outputs": [],
   "source": [
    "class Point1(Point):\n",
    "    \n",
    "    \"\"\"\n",
    "    Reprezentuje bod v 1-dimenzionální euklidovském prostoru.\n",
    "    \"\"\"\n",
    "    \n",
    "    __slots__ = (\"_coords\")\n",
    "    \n",
    "    def __init__(self, x):\n",
    "        super().__init__(x)\n",
    "    \n",
    "    @property\n",
    "    def x(self):\n",
    "        return self._coords[0]\n",
    "    "
   ]
  },
  {
   "cell_type": "code",
   "execution_count": null,
   "metadata": {
    "collapsed": false
   },
   "outputs": [],
   "source": [
    "class Point2(Point1):\n",
    "    \n",
    "    \"\"\"\n",
    "    Reprezentuje bod v 2-dimenzionálním euklidovském prostoru.\n",
    "    \"\"\"\n",
    "    \n",
    "    __slots__ = (\"_coords\")\n",
    "    \n",
    "    \n",
    "    def __init__(self, x, y):\n",
    "        super().__init__(x)\n",
    "        self._coords += (y,)\n",
    "   \n",
    "    @property\n",
    "    def y(self): \n",
    "        return self._coords[1]"
   ]
  },
  {
   "cell_type": "code",
   "execution_count": null,
   "metadata": {
    "collapsed": true
   },
   "outputs": [],
   "source": [
    "class Point3(Point2):\n",
    "    \n",
    "    \"\"\"\n",
    "    Reprezentuje bod v 3-dimenzionálním euklidovském prostoru.\n",
    "    \"\"\"\n",
    "    \n",
    "    __slots__ = (\"_coords\")\n",
    "    \n",
    "    def __init__(self, x, y, z):\n",
    "        super().__init__(x, y)\n",
    "        self._coords += (z,)\n",
    "    \n",
    "    @property\n",
    "    def z(self):\n",
    "        return self._coords[2]\n",
    "    "
   ]
  },
  {
   "cell_type": "markdown",
   "metadata": {},
   "source": [
    "Jinak pokud definovaný typ, ví jak se sečíst s bodem.\n",
    "prohodí si interpretre pořadí operandů!\n",
    "To je výhodné, protože knihovna definující svůj typ,\n",
    "je nezávislá na tom, jestli jsem implemetovalu sčítání  a uživatel nemusí myslet na pořadí operandů."
   ]
  },
  {
   "cell_type": "code",
   "execution_count": null,
   "metadata": {
    "collapsed": false
   },
   "outputs": [],
   "source": [
    "p3 = Point(1, 2, 3)\n",
    "print(p3)\n",
    "\n",
    "class T:\n",
    "    coords = (1, 2, 3)\n",
    "    \n",
    "    def __eq__(self, other):\n",
    "        return T.coords == other.coords\n",
    "        \n",
    "p = Point3(1, 2, 3)\n",
    "t = T()\n",
    "\n",
    "p == t\n",
    "\n",
    "# Co se stane pokud použijem operátory mezi bodem a jiným typem?\n",
    "# Za předpokladu, že druhý typ neví nic o tom, jak se sečíst s bodem:\n",
    "# p = Point3(1, 2, 3)\n",
    "# n = float(1)\n",
    "# t == p\n",
    "# r = p + t\n",
    "# type(r)"
   ]
  },
  {
   "cell_type": "code",
   "execution_count": null,
   "metadata": {
    "collapsed": false
   },
   "outputs": [],
   "source": [
    "p1 = Point1(1)\n",
    "p2 = Point2(1, 2)\n",
    "p3 = Point3(1, 2, 3)\n",
    "\n",
    "print(p1, p2, p3)"
   ]
  },
  {
   "cell_type": "code",
   "execution_count": null,
   "metadata": {
    "collapsed": false
   },
   "outputs": [],
   "source": [
    "pa = Point1(1)\n",
    "pb = Point1(-2)\n",
    "print(pa != pb)\n",
    "print(pa == pb)\n",
    "print(pb + pa)\n",
    "print(pa + pb)\n",
    "print(pb - pa)\n",
    "print(pa - pb)"
   ]
  }
 ],
 "metadata": {
  "kernelspec": {
   "display_name": "Python 3",
   "language": "python",
   "name": "python3"
  },
  "language_info": {
   "codemirror_mode": {
    "name": "ipython",
    "version": 3
   },
   "file_extension": ".py",
   "mimetype": "text/x-python",
   "name": "python",
   "nbconvert_exporter": "python",
   "pygments_lexer": "ipython3",
   "version": "3.5.0"
  }
 },
 "nbformat": 4,
 "nbformat_minor": 0
}
